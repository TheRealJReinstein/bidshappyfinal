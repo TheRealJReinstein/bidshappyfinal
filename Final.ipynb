{
 "cells": [
  {
   "cell_type": "markdown",
   "id": "a31261c3-3265-46d7-9d6e-8df9a69b513f",
   "metadata": {},
   "source": [
    "# The Happiest Neighborhood\n",
    "**Team Name:** Xenotek\n",
    "\n",
    "**Team Members:** Julian Reinstein, Gad Yava, Sumukh Desabhotla\n",
    "\n",
    "**Description:** It's a beautiful day in the neighborhood! This project will determine Pittsburgh's Happiest Neighborhood through three metrics: parks, traffic, and crime. The neighborhood with the highest number of parks per neighborhood, fewest cars per neighborhood, and lowest crime per total population will be declared the \"Happiest Neighborhood\" in Pittsburgh.\n"
   ]
  },
  {
   "cell_type": "markdown",
   "id": "6a440a34-fab0-42b6-be68-b434df06d52e",
   "metadata": {},
   "source": [
    "![misterrogers]"
   ]
  },
  {
   "cell_type": "code",
   "execution_count": null,
   "id": "d760967f-bf69-4c99-a602-72489f27054a",
   "metadata": {},
   "outputs": [],
   "source": []
  }
 ],
 "metadata": {
  "kernelspec": {
   "display_name": "Python 3 (ipykernel)",
   "language": "python",
   "name": "python3"
  },
  "language_info": {
   "codemirror_mode": {
    "name": "ipython",
    "version": 3
   },
   "file_extension": ".py",
   "mimetype": "text/x-python",
   "name": "python",
   "nbconvert_exporter": "python",
   "pygments_lexer": "ipython3",
   "version": "3.12.4"
  }
 },
 "nbformat": 4,
 "nbformat_minor": 5
}
