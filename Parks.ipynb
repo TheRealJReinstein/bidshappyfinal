{
 "cells": [
  {
   "cell_type": "markdown",
   "id": "a2c63627-8cdf-4e2b-9460-a901729f3e69",
   "metadata": {},
   "source": [
    "Park Data Set"
   ]
  },
  {
   "cell_type": "code",
   "execution_count": 2,
   "id": "31df7e73-b83d-422a-b816-c23bd5ecafcb",
   "metadata": {},
   "outputs": [],
   "source": [
    "import pandas as pd\n",
    "import geopandas\n",
    "import matplotlib.pyplot as plt\n",
    "%matplotlib inline\n",
    "import matplotlib.pyplot as plt\n"
   ]
  },
  {
   "cell_type": "code",
   "execution_count": 21,
   "id": "9504dba5-0a5e-4cc6-840f-c375a408202c",
   "metadata": {},
   "outputs": [],
   "source": [
    "parks = pd.read_csv(\"Parks.csv\")\n",
    "#parks.info()\n",
    "park_neigh = parks.groupby(\"neighborhood\").count()\n",
    "park_neigh[\"neighborhood\"] = park_neigh.index"
   ]
  },
  {
   "cell_type": "markdown",
   "id": "d0611e19-d5b7-4899-96ad-ca5319241995",
   "metadata": {},
   "source": [
    "Now we will make it so we only get the neighborhoods and id"
   ]
  },
  {
   "cell_type": "code",
   "execution_count": 23,
   "id": "27cec22e-77d8-4108-9412-0cce4a263769",
   "metadata": {},
   "outputs": [
    {
     "data": {
      "text/html": [
       "<div>\n",
       "<style scoped>\n",
       "    .dataframe tbody tr th:only-of-type {\n",
       "        vertical-align: middle;\n",
       "    }\n",
       "\n",
       "    .dataframe tbody tr th {\n",
       "        vertical-align: top;\n",
       "    }\n",
       "\n",
       "    .dataframe thead th {\n",
       "        text-align: right;\n",
       "    }\n",
       "</style>\n",
       "<table border=\"1\" class=\"dataframe\">\n",
       "  <thead>\n",
       "    <tr style=\"text-align: right;\">\n",
       "      <th></th>\n",
       "      <th>neighborhood</th>\n",
       "      <th>_id</th>\n",
       "    </tr>\n",
       "    <tr>\n",
       "      <th>neighborhood</th>\n",
       "      <th></th>\n",
       "      <th></th>\n",
       "    </tr>\n",
       "  </thead>\n",
       "  <tbody>\n",
       "    <tr>\n",
       "      <th>Allegheny Center</th>\n",
       "      <td>Allegheny Center</td>\n",
       "      <td>2</td>\n",
       "    </tr>\n",
       "    <tr>\n",
       "      <th>Allentown</th>\n",
       "      <td>Allentown</td>\n",
       "      <td>2</td>\n",
       "    </tr>\n",
       "    <tr>\n",
       "      <th>Arlington</th>\n",
       "      <td>Arlington</td>\n",
       "      <td>1</td>\n",
       "    </tr>\n",
       "    <tr>\n",
       "      <th>Banksville</th>\n",
       "      <td>Banksville</td>\n",
       "      <td>2</td>\n",
       "    </tr>\n",
       "    <tr>\n",
       "      <th>Bedford Dwellings</th>\n",
       "      <td>Bedford Dwellings</td>\n",
       "      <td>1</td>\n",
       "    </tr>\n",
       "    <tr>\n",
       "      <th>...</th>\n",
       "      <td>...</td>\n",
       "      <td>...</td>\n",
       "    </tr>\n",
       "    <tr>\n",
       "      <th>Upper Lawrenceville</th>\n",
       "      <td>Upper Lawrenceville</td>\n",
       "      <td>3</td>\n",
       "    </tr>\n",
       "    <tr>\n",
       "      <th>West End</th>\n",
       "      <td>West End</td>\n",
       "      <td>2</td>\n",
       "    </tr>\n",
       "    <tr>\n",
       "      <th>West Oakland</th>\n",
       "      <td>West Oakland</td>\n",
       "      <td>1</td>\n",
       "    </tr>\n",
       "    <tr>\n",
       "      <th>Westwood</th>\n",
       "      <td>Westwood</td>\n",
       "      <td>3</td>\n",
       "    </tr>\n",
       "    <tr>\n",
       "      <th>Windgap</th>\n",
       "      <td>Windgap</td>\n",
       "      <td>1</td>\n",
       "    </tr>\n",
       "  </tbody>\n",
       "</table>\n",
       "<p>73 rows × 2 columns</p>\n",
       "</div>"
      ],
      "text/plain": [
       "                            neighborhood  _id\n",
       "neighborhood                                 \n",
       "Allegheny Center        Allegheny Center    2\n",
       "Allentown                      Allentown    2\n",
       "Arlington                      Arlington    1\n",
       "Banksville                    Banksville    2\n",
       "Bedford Dwellings      Bedford Dwellings    1\n",
       "...                                  ...  ...\n",
       "Upper Lawrenceville  Upper Lawrenceville    3\n",
       "West End                        West End    2\n",
       "West Oakland                West Oakland    1\n",
       "Westwood                        Westwood    3\n",
       "Windgap                          Windgap    1\n",
       "\n",
       "[73 rows x 2 columns]"
      ]
     },
     "execution_count": 23,
     "metadata": {},
     "output_type": "execute_result"
    }
   ],
   "source": [
    "park_2 = park_neigh[[\"neighborhood\",\"_id\"]] #gets neighborhood and id\n",
    "park_2"
   ]
  },
  {
   "cell_type": "code",
   "execution_count": null,
   "id": "e16d7c04-906d-468c-98eb-d7e9907be7af",
   "metadata": {},
   "outputs": [],
   "source": []
  }
 ],
 "metadata": {
  "kernelspec": {
   "display_name": "Python 3 (ipykernel)",
   "language": "python",
   "name": "python3"
  },
  "language_info": {
   "codemirror_mode": {
    "name": "ipython",
    "version": 3
   },
   "file_extension": ".py",
   "mimetype": "text/x-python",
   "name": "python",
   "nbconvert_exporter": "python",
   "pygments_lexer": "ipython3",
   "version": "3.12.7"
  }
 },
 "nbformat": 4,
 "nbformat_minor": 5
}
